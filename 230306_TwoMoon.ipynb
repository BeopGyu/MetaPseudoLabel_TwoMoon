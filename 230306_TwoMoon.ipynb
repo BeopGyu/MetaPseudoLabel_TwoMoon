{
 "cells": [
  {
   "cell_type": "code",
   "execution_count": 28,
   "metadata": {},
   "outputs": [],
   "source": [
    "from sklearn.datasets import make_moons\n",
    "import matplotlib.pyplot as plt\n",
    "import numpy as np\n",
    "import torch\n",
    "from torch import nn\n",
    "from torch.utils.data import DataLoader, Dataset"
   ]
  },
  {
   "cell_type": "code",
   "execution_count": 18,
   "metadata": {},
   "outputs": [],
   "source": [
    "points, labels = make_moons(n_samples=2000, shuffle=False ,noise=0.1)"
   ]
  },
  {
   "cell_type": "code",
   "execution_count": 19,
   "metadata": {},
   "outputs": [],
   "source": [
    "points_l = np.array((points[0], points[500], points[999], points[1300], points[1500], points[1800]))\n",
    "labels_l = np.array((labels[0], labels[500], labels[999], labels[1300], labels[1500], labels[1800]))"
   ]
  },
  {
   "cell_type": "code",
   "execution_count": 20,
   "metadata": {},
   "outputs": [],
   "source": [
    "# print(points[0], labels[0], points[500], labels[500], points[999], labels[999])\n",
    "# print(points[1300], labels[1300], points[1500], labels[1500], points[1800], labels[1800])"
   ]
  },
  {
   "cell_type": "code",
   "execution_count": 21,
   "metadata": {},
   "outputs": [
    {
     "data": {
      "text/plain": [
       "<matplotlib.collections.PathCollection at 0x21e6ac81c10>"
      ]
     },
     "execution_count": 21,
     "metadata": {},
     "output_type": "execute_result"
    },
    {
     "data": {
      "image/png": "[encoded data removed]",
      "text/plain": [
       "<Figure size 432x288 with 1 Axes>"
      ]
     },
     "metadata": {
      "needs_background": "light"
     },
     "output_type": "display_data"
    }
   ],
   "source": [
    "plt.scatter(points[:,0],points[:,1])\n",
    "plt.scatter(points_l[:,0],points_l[:,1])"
   ]
  },
  {
   "cell_type": "code",
   "execution_count": 23,
   "metadata": {},
   "outputs": [],
   "source": [
    "class TMClassifier(nn.Module):\n",
    "    def __init__(self) -> None:\n",
    "        super().__init__()\n",
    "\n",
    "        self.layers = nn.Sequential(\n",
    "            nn.Linear(in_features=2, out_features=8),\n",
    "            nn.Sigmoid(),\n",
    "            nn.Linear(in_features=8, out_features=8),\n",
    "            nn.Sigmoid(),\n",
    "            nn.Linear(in_features=8, out_features=2),\n",
    "            nn.Sigmoid()\n",
    "        )\n",
    "\n",
    "        self.init_weight()\n",
    "\n",
    "    def init_weight(self):\n",
    "        for layer in self.layers:\n",
    "            if(isinstance(layer, nn.Linear)):\n",
    "                nn.init.uniform_(layer.weight, -0.1, 0.1)\n",
    "\n",
    "    def foward(self, x):\n",
    "        return self.layers(x)"
   ]
  },
  {
   "cell_type": "code",
   "execution_count": 24,
   "metadata": {},
   "outputs": [],
   "source": [
    "supervised = TMClassifier()\n",
    "pseudoLabel = TMClassifier()\n",
    "metaPseudoLabel = TMClassifier()\n",
    "lr = 0.1\n",
    "opt_s = torch.optim.SGD(supervised.parameters(), lr=lr)\n",
    "opt_pl = torch.optim.SGD(pseudoLabel.parameters(), lr=lr)\n",
    "opt_mpl = torch.optim.SGD(metaPseudoLabel.parameters(), lr=lr)"
   ]
  },
  {
   "cell_type": "code",
   "execution_count": 25,
   "metadata": {},
   "outputs": [],
   "source": [
    "creterion = nn.CrossEntropyLoss()"
   ]
  },
  {
   "cell_type": "code",
   "execution_count": null,
   "metadata": {},
   "outputs": [],
   "source": []
  },
  {
   "cell_type": "code",
   "execution_count": 29,
   "metadata": {},
   "outputs": [],
   "source": [
    "class MyDataset(Dataset):\n",
    "    def __init__(self, x_data, y_data, transform=None):\n",
    "        self.x_data = x_data\n",
    "        self.y_data = y_data\n",
    "        self.transform = transform\n",
    "        self.len = len(y_data)\n",
    "    \n",
    "    def __getitem__(self, index):\n",
    "        sample = self.x_data[index], self.y_data[index]\n",
    "        \n",
    "        if self.transform:\n",
    "            sample = self.transform(sample)   #self.transform이 None이 아니라면 전처리\n",
    "        return sample \n",
    "    \n",
    "    def __len__(self):\n",
    "        return self.len"
   ]
  },
  {
   "cell_type": "code",
   "execution_count": 31,
   "metadata": {},
   "outputs": [],
   "source": [
    "labeledData = MyDataset(points_l, labels_l)\n",
    "unlabeledData = MyDataset(points, labels_l)\n",
    "\n",
    "labeledLoader = DataLoader(labeledData, batch_size=6, shuffle=True)\n",
    "unlabeledLoader = DataLoader(unlabeledData, batch_size=6, shuffle=True)"
   ]
  },
  {
   "cell_type": "code",
   "execution_count": null,
   "metadata": {},
   "outputs": [],
   "source": [
    "for epoch in range(500):\n",
    "    for point, label in labeledLoader:\n",
    "        "
   ]
  }
 ],
 "metadata": {
  "kernelspec": {
   "display_name": "IDEA_torch",
   "language": "python",
   "name": "python3"
  },
  "language_info": {
   "codemirror_mode": {
    "name": "ipython",
    "version": 3
   },
   "file_extension": ".py",
   "mimetype": "text/x-python",
   "name": "python",
   "nbconvert_exporter": "python",
   "pygments_lexer": "ipython3",
   "version": "3.9.7"
  },
  "orig_nbformat": 4,
  "vscode": {
   "interpreter": {
    "hash": "8090384d562e2960e9de021746d637ad625f1d0c1a47d1c20963b6424ab6e06c"
   }
  }
 },
 "nbformat": 4,
 "nbformat_minor": 2
}
