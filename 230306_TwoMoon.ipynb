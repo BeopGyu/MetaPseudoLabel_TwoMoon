{
 "cells": [
  {
   "cell_type": "code",
   "execution_count": 1,
   "metadata": {},
   "outputs": [],
   "source": [
    "from sklearn.datasets import make_moons\n",
    "import matplotlib.pyplot as plt\n",
    "import numpy as np\n",
    "import torch\n",
    "from torch import nn\n",
    "from torch.utils.data import DataLoader, Dataset"
   ]
  },
  {
   "cell_type": "code",
   "execution_count": 2,
   "metadata": {},
   "outputs": [
    {
     "name": "stdout",
     "output_type": "stream",
     "text": [
      "[0]\n",
      "['NVIDIA GeForce RTX 3080']\n",
      "cuda\n"
     ]
    }
   ],
   "source": [
    "gpu_ids = []\n",
    "device_names = []\n",
    "if torch.cuda.is_available():\n",
    "    for gpu_id in range(torch.cuda.device_count()):\n",
    "        gpu_ids += [gpu_id]\n",
    "        device_names += [torch.cuda.get_device_name(gpu_id)]\n",
    "print(gpu_ids)\n",
    "print(device_names)\n",
    "\n",
    "if len(gpu_ids) > 1:\n",
    "    device = 'cuda:' + str(gpu_ids[0])  # 여기서 gpu 번호 고르기\n",
    "else:\n",
    "    device = \"cuda\" if torch.cuda.is_available() else \"cpu\"\n",
    "\n",
    "print(device)"
   ]
  },
  {
   "cell_type": "code",
   "execution_count": 3,
   "metadata": {},
   "outputs": [],
   "source": [
    "points, labels = make_moons(n_samples=2000, shuffle=False ,noise=0.1)"
   ]
  },
  {
   "cell_type": "code",
   "execution_count": 4,
   "metadata": {},
   "outputs": [],
   "source": [
    "points_l = np.array((points[10], points[500], points[900], points[1300], points[1500], points[1800]))\n",
    "labels_l = np.array((labels[10], labels[500], labels[900], labels[1300], labels[1500], labels[1800]))"
   ]
  },
  {
   "cell_type": "code",
   "execution_count": 5,
   "metadata": {},
   "outputs": [],
   "source": [
    "# print(points[0], labels[0], points[500], labels[500], points[999], labels[999])\n",
    "# print(points[1300], labels[1300], points[1500], labels[1500], points[1800], labels[1800])"
   ]
  },
  {
   "cell_type": "code",
   "execution_count": 6,
   "metadata": {},
   "outputs": [
    {
     "data": {
      "text/plain": [
       "<matplotlib.collections.PathCollection at 0x19eea07bc70>"
      ]
     },
     "execution_count": 6,
     "metadata": {},
     "output_type": "execute_result"
    },
    {
     "data": {
      "image/png": "[encoded data removed]",
      "text/plain": [
       "<Figure size 432x288 with 1 Axes>"
      ]
     },
     "metadata": {
      "needs_background": "light"
     },
     "output_type": "display_data"
    }
   ],
   "source": [
    "plt.scatter(points[:,0],points[:,1])\n",
    "plt.scatter(points_l[:,0],points_l[:,1])"
   ]
  },
  {
   "cell_type": "code",
   "execution_count": 7,
   "metadata": {},
   "outputs": [],
   "source": [
    "class TMClassifier(nn.Module):\n",
    "    def __init__(self) -> None:\n",
    "        super().__init__()\n",
    "\n",
    "        self.layers = nn.Sequential(\n",
    "            nn.Linear(in_features=2, out_features=8),\n",
    "            nn.Sigmoid(),\n",
    "            nn.Linear(in_features=8, out_features=8),\n",
    "            nn.Sigmoid(),\n",
    "            nn.Linear(in_features=8, out_features=2),\n",
    "            nn.Sigmoid()\n",
    "        )\n",
    "\n",
    "        self.init_weight()\n",
    "\n",
    "    def init_weight(self):\n",
    "        for layer in self.layers:\n",
    "            if(isinstance(layer, nn.Linear)):\n",
    "                nn.init.uniform_(layer.weight, -0.1, 0.1)\n",
    "\n",
    "    def forward(self, x):\n",
    "        return self.layers(x)"
   ]
  },
  {
   "cell_type": "code",
   "execution_count": 8,
   "metadata": {},
   "outputs": [],
   "source": [
    "supervised = TMClassifier().to(device=device)\n",
    "pseudoLabel = TMClassifier().to(device=device)\n",
    "metaPseudoLabel = TMClassifier().to(device=device)\n",
    "lr = 0.1\n",
    "opt_s = torch.optim.SGD(supervised.parameters(), lr=lr)\n",
    "opt_pl = torch.optim.SGD(pseudoLabel.parameters(), lr=lr)\n",
    "opt_mpl = torch.optim.SGD(metaPseudoLabel.parameters(), lr=lr)"
   ]
  },
  {
   "cell_type": "code",
   "execution_count": 9,
   "metadata": {},
   "outputs": [],
   "source": [
    "creterion = nn.CrossEntropyLoss()"
   ]
  },
  {
   "cell_type": "code",
   "execution_count": 10,
   "metadata": {},
   "outputs": [],
   "source": [
    "class MyDataset(Dataset):\n",
    "    def __init__(self, x_data, y_data, transform=None):\n",
    "        self.x_data = x_data\n",
    "        self.y_data = y_data\n",
    "        self.transform = transform\n",
    "        self.len = len(y_data)\n",
    "    \n",
    "    def __getitem__(self, index):\n",
    "        sample = self.x_data[index], self.y_data[index]\n",
    "        \n",
    "        if self.transform:\n",
    "            sample = self.transform(sample)   #self.transform이 None이 아니라면 전처리\n",
    "        return sample \n",
    "    \n",
    "    def __len__(self):\n",
    "        return self.len"
   ]
  },
  {
   "cell_type": "code",
   "execution_count": 11,
   "metadata": {},
   "outputs": [],
   "source": [
    "labeledData = MyDataset(points_l, labels_l)\n",
    "unlabeledData = MyDataset(points, labels)\n",
    "\n",
    "labeledLoader = DataLoader(labeledData, batch_size=6, shuffle=True)\n",
    "unlabeledLoader = DataLoader(unlabeledData, batch_size=1024, shuffle=True)"
   ]
  },
  {
   "cell_type": "code",
   "execution_count": 12,
   "metadata": {},
   "outputs": [],
   "source": [
    "epoch = 0\n",
    "max_epoch = 3e4 + 1"
   ]
  },
  {
   "cell_type": "code",
   "execution_count": 13,
   "metadata": {},
   "outputs": [
    {
     "name": "stdout",
     "output_type": "stream",
     "text": [
      "Epoch: 0 \tLoss: 0.6941 \tAcc: 3\n",
      "Epoch: 1000 \tLoss: 0.6931 \tAcc: 3\n",
      "Epoch: 2000 \tLoss: 0.6931 \tAcc: 3\n",
      "Epoch: 3000 \tLoss: 0.6930 \tAcc: 3\n",
      "Epoch: 4000 \tLoss: 0.6929 \tAcc: 3\n",
      "Epoch: 5000 \tLoss: 0.6927 \tAcc: 4\n",
      "Epoch: 6000 \tLoss: 0.6921 \tAcc: 5\n",
      "Epoch: 7000 \tLoss: 0.6896 \tAcc: 5\n",
      "Epoch: 8000 \tLoss: 0.6683 \tAcc: 5\n",
      "Epoch: 9000 \tLoss: 0.5362 \tAcc: 5\n",
      "Epoch: 10000 \tLoss: 0.4895 \tAcc: 5\n",
      "Epoch: 11000 \tLoss: 0.4433 \tAcc: 5\n",
      "Epoch: 12000 \tLoss: 0.4011 \tAcc: 6\n",
      "Epoch: 13000 \tLoss: 0.3672 \tAcc: 6\n",
      "Epoch: 14000 \tLoss: 0.3463 \tAcc: 6\n",
      "Epoch: 15000 \tLoss: 0.3348 \tAcc: 6\n",
      "Epoch: 16000 \tLoss: 0.3283 \tAcc: 6\n",
      "Epoch: 17000 \tLoss: 0.3244 \tAcc: 6\n",
      "Epoch: 18000 \tLoss: 0.3219 \tAcc: 6\n",
      "Epoch: 19000 \tLoss: 0.3203 \tAcc: 6\n",
      "Epoch: 20000 \tLoss: 0.3191 \tAcc: 6\n",
      "Epoch: 21000 \tLoss: 0.3182 \tAcc: 6\n",
      "Epoch: 22000 \tLoss: 0.3175 \tAcc: 6\n",
      "Epoch: 23000 \tLoss: 0.3170 \tAcc: 6\n",
      "Epoch: 24000 \tLoss: 0.3166 \tAcc: 6\n",
      "Epoch: 25000 \tLoss: 0.3162 \tAcc: 6\n",
      "Epoch: 26000 \tLoss: 0.3159 \tAcc: 6\n",
      "Epoch: 27000 \tLoss: 0.3157 \tAcc: 6\n",
      "Epoch: 28000 \tLoss: 0.3155 \tAcc: 6\n",
      "Epoch: 29000 \tLoss: 0.3153 \tAcc: 6\n"
     ]
    }
   ],
   "source": [
    "while(epoch < max_epoch):\n",
    "    for point, label in labeledLoader:\n",
    "        opt_s.zero_grad()\n",
    "\n",
    "        output = supervised(point.float().to(device))\n",
    "\n",
    "        loss = creterion(output.cpu(), label)\n",
    "\n",
    "        loss.backward()\n",
    "        opt_s.step()\n",
    "\n",
    "    if(epoch%1e3 == 0):\n",
    "        _, preds = torch.max(output, 1)\n",
    "        acc = torch.sum(preds.cpu() == label)\n",
    "\n",
    "        print(f'Epoch: {epoch} \\tLoss: {loss.item():.4f} \\tAcc: {acc.item()}')\n",
    "    \n",
    "    epoch += 1"
   ]
  },
  {
   "cell_type": "code",
   "execution_count": 14,
   "metadata": {},
   "outputs": [
    {
     "name": "stdout",
     "output_type": "stream",
     "text": [
      "Epoch: 0 \tLoss: 0.7120 \tAcc: 508 / 976\n",
      "Epoch: 1000 \tLoss: 0.5836 \tAcc: 499 / 976\n",
      "Epoch: 2000 \tLoss: 0.5862 \tAcc: 481 / 976\n",
      "Epoch: 3000 \tLoss: 0.6027 \tAcc: 495 / 976\n",
      "Epoch: 4000 \tLoss: 0.5931 \tAcc: 486 / 976\n",
      "Epoch: 5000 \tLoss: 0.5915 \tAcc: 489 / 976\n",
      "Epoch: 6000 \tLoss: 0.5776 \tAcc: 482 / 976\n",
      "Epoch: 7000 \tLoss: 0.4785 \tAcc: 684 / 976\n",
      "Epoch: 8000 \tLoss: 0.3812 \tAcc: 774 / 976\n",
      "Epoch: 9000 \tLoss: 0.3533 \tAcc: 767 / 976\n",
      "Epoch: 10000 \tLoss: 0.3425 \tAcc: 752 / 976\n",
      "Epoch: 11000 \tLoss: 0.3361 \tAcc: 757 / 976\n",
      "Epoch: 12000 \tLoss: 0.3323 \tAcc: 753 / 976\n",
      "Epoch: 13000 \tLoss: 0.3312 \tAcc: 757 / 976\n",
      "Epoch: 14000 \tLoss: 0.3279 \tAcc: 757 / 976\n",
      "Epoch: 15000 \tLoss: 0.3260 \tAcc: 761 / 976\n",
      "Epoch: 16000 \tLoss: 0.3257 \tAcc: 754 / 976\n",
      "Epoch: 17000 \tLoss: 0.3273 \tAcc: 763 / 976\n",
      "Epoch: 18000 \tLoss: 0.3296 \tAcc: 759 / 976\n",
      "Epoch: 19000 \tLoss: 0.3248 \tAcc: 753 / 976\n",
      "Epoch: 20000 \tLoss: 0.3255 \tAcc: 764 / 976\n",
      "Epoch: 21000 \tLoss: 0.3238 \tAcc: 760 / 976\n",
      "Epoch: 22000 \tLoss: 0.3266 \tAcc: 740 / 976\n",
      "Epoch: 23000 \tLoss: 0.3238 \tAcc: 767 / 976\n",
      "Epoch: 24000 \tLoss: 0.3250 \tAcc: 755 / 976\n",
      "Epoch: 25000 \tLoss: 0.3225 \tAcc: 757 / 976\n",
      "Epoch: 26000 \tLoss: 0.3232 \tAcc: 750 / 976\n",
      "Epoch: 27000 \tLoss: 0.3246 \tAcc: 762 / 976\n",
      "Epoch: 28000 \tLoss: 0.3230 \tAcc: 760 / 976\n",
      "Epoch: 29000 \tLoss: 0.3229 \tAcc: 764 / 976\n"
     ]
    }
   ],
   "source": [
    "epoch = 0\n",
    "\n",
    "while(epoch < max_epoch):\n",
    "    for point, label in unlabeledLoader:\n",
    "        opt_pl.zero_grad()\n",
    "\n",
    "        pseudo_label = supervised(point.float().to(device))\n",
    "        output = pseudoLabel(point.float().to(device))\n",
    "\n",
    "        loss = creterion(output, pseudo_label)\n",
    "\n",
    "        loss.backward()\n",
    "        opt_pl.step()\n",
    "\n",
    "    if(epoch%1e3 == 0):\n",
    "        _, preds = torch.max(output, 1)\n",
    "        acc = torch.sum(preds == label.to(device))\n",
    "\n",
    "        print(f'Epoch: {epoch} \\tLoss: {loss.item():.4f} \\tAcc: {acc.item()} / {point.shape[0]}')\n",
    "    \n",
    "    epoch += 1"
   ]
  },
  {
   "cell_type": "code",
   "execution_count": 15,
   "metadata": {},
   "outputs": [],
   "source": [
    "x = np.linspace(-1.5, 2.5, num=1000)\n",
    "y = np.linspace(-1.5, 1.5, num=1000)\n",
    "\n",
    "X,Y = np.meshgrid(x,y)\n",
    "\n",
    "# plt.scatter(X, Y)"
   ]
  },
  {
   "cell_type": "code",
   "execution_count": 16,
   "metadata": {},
   "outputs": [],
   "source": [
    "arr = np.stack((X.flatten(),Y.flatten()),axis=1)"
   ]
  },
  {
   "cell_type": "code",
   "execution_count": 17,
   "metadata": {},
   "outputs": [],
   "source": [
    "renderData = MyDataset(arr, np.zeros_like(arr))\n",
    "\n",
    "renderLoader = DataLoader(renderData, batch_size=1024, shuffle=False, drop_last=False)"
   ]
  },
  {
   "cell_type": "code",
   "execution_count": 18,
   "metadata": {},
   "outputs": [],
   "source": [
    "s_preds = np.array([])\n",
    "pl_preds = np.array([])\n",
    "\n",
    "for point, _ in renderLoader:\n",
    "    # print(point)\n",
    "    _, s_pred = torch.max(supervised(point.float().to(device)), 1)\n",
    "    _, pl_pred = torch.max(pseudoLabel(point.float().to(device)), 1)\n",
    "    # break\n",
    "\n",
    "    s_preds = np.concatenate((s_preds,s_pred.cpu().numpy()))\n",
    "    pl_preds = np.concatenate((pl_preds,pl_pred.cpu().numpy()))"
   ]
  },
  {
   "cell_type": "code",
   "execution_count": 19,
   "metadata": {},
   "outputs": [
    {
     "name": "stdout",
     "output_type": "stream",
     "text": [
      "(1000000, 2) (1000000,) (1000000,)\n"
     ]
    }
   ],
   "source": [
    "print(arr.shape, s_preds.shape, pl_preds.shape)"
   ]
  },
  {
   "cell_type": "code",
   "execution_count": 20,
   "metadata": {},
   "outputs": [
    {
     "name": "stdout",
     "output_type": "stream",
     "text": [
      "601044 398956\n",
      "601340 398660\n"
     ]
    }
   ],
   "source": [
    "s_pred_points_0 = []\n",
    "s_pred_points_1 = []\n",
    "pl_pred_points_0 = []\n",
    "pl_pred_points_1 = []\n",
    "\n",
    "for i in range(arr.shape[0]):\n",
    "    if(s_preds[i] == 0):\n",
    "        s_pred_points_0.append(arr[i])\n",
    "    else:\n",
    "        s_pred_points_1.append(arr[i])\n",
    "    if(pl_preds[i] == 0):\n",
    "        pl_pred_points_0.append(arr[i])\n",
    "    else:\n",
    "        pl_pred_points_1.append(arr[i])\n",
    "\n",
    "print(len(s_pred_points_0),len(s_pred_points_1))\n",
    "print(len(pl_pred_points_0),len(pl_pred_points_1))"
   ]
  },
  {
   "cell_type": "code",
   "execution_count": 21,
   "metadata": {},
   "outputs": [
    {
     "data": {
      "text/plain": [
       "(601044, 2)"
      ]
     },
     "execution_count": 21,
     "metadata": {},
     "output_type": "execute_result"
    }
   ],
   "source": [
    "np.array(s_pred_points_0).shape"
   ]
  },
  {
   "cell_type": "code",
   "execution_count": 22,
   "metadata": {},
   "outputs": [
    {
     "data": {
      "text/plain": [
       "[None, None]"
      ]
     },
     "execution_count": 22,
     "metadata": {},
     "output_type": "execute_result"
    },
    {
     "data": {
      "image/png": "[encoded data removed]",
      "text/plain": [
       "<Figure size 2016x648 with 2 Axes>"
      ]
     },
     "metadata": {
      "needs_background": "light"
     },
     "output_type": "display_data"
    }
   ],
   "source": [
    "gridshape = (1, 3)\n",
    "marker_size = 0.1\n",
    "\n",
    "loc = (0,0)\n",
    "ax = plt.subplot2grid(gridshape, loc)\n",
    "\n",
    "plt.scatter(np.array(s_pred_points_0)[:,0], np.array(s_pred_points_0)[:,1], s=marker_size)\n",
    "plt.scatter(np.array(s_pred_points_1)[:,0], np.array(s_pred_points_1)[:,1], s=marker_size)\n",
    "plt.scatter(points[:,0],points[:,1])\n",
    "plt.scatter(points_l[:,0],points_l[:,1])\n",
    "\n",
    "loc = (0,1)\n",
    "ax = plt.subplot2grid(gridshape, loc)\n",
    "\n",
    "plt.scatter(np.array(pl_pred_points_0)[:,0], np.array(pl_pred_points_0)[:,1], s=marker_size)\n",
    "plt.scatter(np.array(pl_pred_points_1)[:,0], np.array(pl_pred_points_1)[:,1], s=marker_size)\n",
    "plt.scatter(points[:,0],points[:,1])\n",
    "plt.scatter(points_l[:,0],points_l[:,1])\n",
    "\n",
    "ax.figure.set(figwidth=28, figheight=9)"
   ]
  },
  {
   "cell_type": "code",
   "execution_count": 23,
   "metadata": {},
   "outputs": [
    {
     "name": "stdout",
     "output_type": "stream",
     "text": [
      "Epoch: 0 \tLoss: 0.7042 \tAcc: 479 / 976\n",
      "Epoch: 1000 \tLoss: 0.5597 \tAcc: 499 / 976\n",
      "Epoch: 2000 \tLoss: 0.5680 \tAcc: 480 / 976\n",
      "Epoch: 3000 \tLoss: 0.5641 \tAcc: 486 / 976\n",
      "Epoch: 4000 \tLoss: 0.5396 \tAcc: 498 / 976\n",
      "Epoch: 5000 \tLoss: 0.5483 \tAcc: 517 / 976\n",
      "Epoch: 6000 \tLoss: 0.5631 \tAcc: 484 / 976\n",
      "Epoch: 7000 \tLoss: 0.5575 \tAcc: 484 / 976\n",
      "Epoch: 8000 \tLoss: 0.5575 \tAcc: 492 / 976\n",
      "Epoch: 9000 \tLoss: 0.5785 \tAcc: 472 / 976\n",
      "Epoch: 10000 \tLoss: 0.5303 \tAcc: 487 / 976\n",
      "Epoch: 11000 \tLoss: 0.5516 \tAcc: 481 / 976\n",
      "Epoch: 12000 \tLoss: 0.0941 \tAcc: 471 / 976\n",
      "Epoch: 13000 \tLoss: 0.0884 \tAcc: 489 / 976\n",
      "Epoch: 14000 \tLoss: 0.0811 \tAcc: 473 / 976\n",
      "Epoch: 15000 \tLoss: 0.0799 \tAcc: 489 / 976\n",
      "Epoch: 16000 \tLoss: 0.0784 \tAcc: 482 / 976\n",
      "Epoch: 17000 \tLoss: 0.0785 \tAcc: 494 / 976\n",
      "Epoch: 18000 \tLoss: 0.0798 \tAcc: 482 / 976\n",
      "Epoch: 19000 \tLoss: 0.0792 \tAcc: 494 / 976\n",
      "Epoch: 20000 \tLoss: 0.0810 \tAcc: 495 / 976\n",
      "Epoch: 21000 \tLoss: 0.0818 \tAcc: 492 / 976\n",
      "Epoch: 22000 \tLoss: 0.0786 \tAcc: 487 / 976\n",
      "Epoch: 23000 \tLoss: 0.0765 \tAcc: 468 / 976\n",
      "Epoch: 24000 \tLoss: 0.0795 \tAcc: 488 / 976\n",
      "Epoch: 25000 \tLoss: 0.0794 \tAcc: 486 / 976\n",
      "Epoch: 26000 \tLoss: 0.0826 \tAcc: 485 / 976\n",
      "Epoch: 27000 \tLoss: 0.0781 \tAcc: 475 / 976\n",
      "Epoch: 28000 \tLoss: 0.0791 \tAcc: 472 / 976\n",
      "Epoch: 29000 \tLoss: 0.0816 \tAcc: 462 / 976\n"
     ]
    }
   ],
   "source": [
    "epoch = 0\n",
    "\n",
    "while(epoch < max_epoch):\n",
    "    for point, label in unlabeledLoader:\n",
    "        # concatenate unlabeled data and labeled data for efficiency\n",
    "        batch_size = point.shape[0]\n",
    "        points_ = torch.concat((point.to(device), torch.tensor(points_l, device=device))).float()\n",
    "        labels = torch.tensor(labels_l, device=device)\n",
    "        \n",
    "        opt_mpl.zero_grad()\n",
    "        opt_s.zero_grad()\n",
    "        \n",
    "        # sample pseudo label using teacher model(supervised) on unlabeled data\n",
    "        output_t = supervised(points_)\n",
    "        pseudo_label = output_t[:batch_size]\n",
    "\n",
    "        # get loss of student on unlabeled input using pseudo label\n",
    "        output = metaPseudoLabel(points_)\n",
    "        loss = creterion(output[:batch_size], pseudo_label)\n",
    "\n",
    "        # store old loss of student on labeled data\n",
    "        loss_old = nn.functional.cross_entropy(output[batch_size:].detach(), labels)\n",
    "\n",
    "        # update student\n",
    "        loss.backward(retain_graph=True)\n",
    "        opt_mpl.step()\n",
    "        \n",
    "        with torch.no_grad():\n",
    "            out_new = metaPseudoLabel(points_[batch_size:])\n",
    "            loss_new = nn.functional.cross_entropy(out_new.detach(), labels)\n",
    "\n",
    "        # compute dot product(h) using first order Taylor series\n",
    "        # f(a+h) - f(a) = f'(a)h\n",
    "        # h = loss_old - loss_new # theoretically\n",
    "        h = loss_new - loss_old # official code\n",
    "\n",
    "        # compute teacher loss\n",
    "        _, hard_pseudo_label = torch.max(pseudo_label.detach(), dim=-1)\n",
    "        loss_t_mpl = h * nn.functional.cross_entropy(pseudo_label, hard_pseudo_label)\n",
    "        loss_t_supervised = nn.functional.cross_entropy(output_t[batch_size:], labels)\n",
    "\n",
    "        loss_t = loss_t_mpl + loss_t_supervised\n",
    "        loss_t.backward()\n",
    "        opt_s.step()\n",
    "\n",
    "\n",
    "    if(epoch%1e3 == 0):\n",
    "        _, preds = torch.max(output[:batch_size], dim=-1)\n",
    "        acc = torch.sum(preds == label.to(device))\n",
    "\n",
    "        print(f'Epoch: {epoch} \\tLoss: {loss.item():.4f} \\tAcc: {acc.item()} / {point.shape[0]}')\n",
    "    \n",
    "    epoch += 1"
   ]
  },
  {
   "cell_type": "code",
   "execution_count": 27,
   "metadata": {},
   "outputs": [],
   "source": [
    "s_preds = np.array([])\n",
    "mpl_preds = np.array([])\n",
    "\n",
    "for point, _ in renderLoader:\n",
    "    _, s_pred = torch.max(supervised(point.float().to(device)), 1)\n",
    "    _, mpl_pred = torch.max(metaPseudoLabel(point.float().to(device)), dim=-1)\n",
    "\n",
    "    s_preds = np.concatenate((s_preds,s_pred.cpu().numpy()))\n",
    "    mpl_preds = np.concatenate((mpl_preds,mpl_pred.cpu().numpy()))"
   ]
  },
  {
   "cell_type": "code",
   "execution_count": 28,
   "metadata": {},
   "outputs": [
    {
     "name": "stdout",
     "output_type": "stream",
     "text": [
      "598701 401299\n",
      "0 1000000\n"
     ]
    }
   ],
   "source": [
    "s_pred_points_0 = []\n",
    "s_pred_points_1 = []\n",
    "mpl_pred_points_0 = []\n",
    "mpl_pred_points_1 = []\n",
    "\n",
    "for i in range(arr.shape[0]):\n",
    "    if(s_preds[i] == 0):\n",
    "        s_pred_points_0.append(arr[i])\n",
    "    else:\n",
    "        s_pred_points_1.append(arr[i])\n",
    "    if(mpl_preds[i] == 0):\n",
    "        mpl_pred_points_0.append(arr[i])\n",
    "    else:\n",
    "        mpl_pred_points_1.append(arr[i])\n",
    "\n",
    "print(len(s_pred_points_0),len(s_pred_points_1))\n",
    "print(len(mpl_pred_points_0),len(mpl_pred_points_1))"
   ]
  },
  {
   "cell_type": "code",
   "execution_count": 29,
   "metadata": {},
   "outputs": [
    {
     "ename": "IndexError",
     "evalue": "too many indices for array: array is 1-dimensional, but 2 were indexed",
     "output_type": "error",
     "traceback": [
      "\u001b[1;31m---------------------------------------------------------------------------\u001b[0m",
      "\u001b[1;31mIndexError\u001b[0m                                Traceback (most recent call last)",
      "\u001b[1;32mc:\\IDEA\\MetaPseudoLabel\\230306_TwoMoon.ipynb Cell 26\u001b[0m in \u001b[0;36m<module>\u001b[1;34m\u001b[0m\n\u001b[0;32m     <a href='vscode-notebook-cell:/c%3A/IDEA/MetaPseudoLabel/230306_TwoMoon.ipynb#X34sZmlsZQ%3D%3D?line=25'>26</a>\u001b[0m ax\u001b[39m.\u001b[39mset_xticks([])\n\u001b[0;32m     <a href='vscode-notebook-cell:/c%3A/IDEA/MetaPseudoLabel/230306_TwoMoon.ipynb#X34sZmlsZQ%3D%3D?line=26'>27</a>\u001b[0m ax\u001b[39m.\u001b[39mset_yticks([])\n\u001b[1;32m---> <a href='vscode-notebook-cell:/c%3A/IDEA/MetaPseudoLabel/230306_TwoMoon.ipynb#X34sZmlsZQ%3D%3D?line=28'>29</a>\u001b[0m plt\u001b[39m.\u001b[39mscatter(np\u001b[39m.\u001b[39;49marray(mpl_pred_points_0)[:,\u001b[39m0\u001b[39;49m], np\u001b[39m.\u001b[39marray(mpl_pred_points_0)[:,\u001b[39m1\u001b[39m], s\u001b[39m=\u001b[39mmarker_size)\n\u001b[0;32m     <a href='vscode-notebook-cell:/c%3A/IDEA/MetaPseudoLabel/230306_TwoMoon.ipynb#X34sZmlsZQ%3D%3D?line=29'>30</a>\u001b[0m plt\u001b[39m.\u001b[39mscatter(np\u001b[39m.\u001b[39marray(mpl_pred_points_1)[:,\u001b[39m0\u001b[39m], np\u001b[39m.\u001b[39marray(mpl_pred_points_1)[:,\u001b[39m1\u001b[39m], s\u001b[39m=\u001b[39mmarker_size)\n\u001b[0;32m     <a href='vscode-notebook-cell:/c%3A/IDEA/MetaPseudoLabel/230306_TwoMoon.ipynb#X34sZmlsZQ%3D%3D?line=30'>31</a>\u001b[0m plt\u001b[39m.\u001b[39mscatter(points[:,\u001b[39m0\u001b[39m],points[:,\u001b[39m1\u001b[39m])\n",
      "\u001b[1;31mIndexError\u001b[0m: too many indices for array: array is 1-dimensional, but 2 were indexed"
     ]
    },
    {
     "data": {
      "image/png": "[encoded data removed]",
      "text/plain": [
       "<Figure size 432x288 with 3 Axes>"
      ]
     },
     "metadata": {},
     "output_type": "display_data"
    }
   ],
   "source": [
    "gridshape = (1, 3)\n",
    "marker_size = 0.1\n",
    "\n",
    "loc = (0,0)\n",
    "ax = plt.subplot2grid(gridshape, loc)\n",
    "ax.set_xticks([])\n",
    "ax.set_yticks([])\n",
    "\n",
    "plt.scatter(np.array(s_pred_points_0)[:,0], np.array(s_pred_points_0)[:,1], s=marker_size)\n",
    "plt.scatter(np.array(s_pred_points_1)[:,0], np.array(s_pred_points_1)[:,1], s=marker_size)\n",
    "plt.scatter(points[:,0],points[:,1])\n",
    "plt.scatter(points_l[:,0],points_l[:,1])\n",
    "\n",
    "loc = (0,1)\n",
    "ax = plt.subplot2grid(gridshape, loc)\n",
    "ax.set_xticks([])\n",
    "ax.set_yticks([])\n",
    "\n",
    "plt.scatter(np.array(pl_pred_points_0)[:,0], np.array(pl_pred_points_0)[:,1], s=marker_size)\n",
    "plt.scatter(np.array(pl_pred_points_1)[:,0], np.array(pl_pred_points_1)[:,1], s=marker_size)\n",
    "plt.scatter(points[:,0],points[:,1])\n",
    "plt.scatter(points_l[:,0],points_l[:,1])\n",
    "\n",
    "loc = (0,2)\n",
    "ax = plt.subplot2grid(gridshape, loc)\n",
    "ax.set_xticks([])\n",
    "ax.set_yticks([])\n",
    "\n",
    "plt.scatter(np.array(mpl_pred_points_0)[:,0], np.array(mpl_pred_points_0)[:,1], s=marker_size)\n",
    "plt.scatter(np.array(mpl_pred_points_1)[:,0], np.array(mpl_pred_points_1)[:,1], s=marker_size)\n",
    "plt.scatter(points[:,0],points[:,1])\n",
    "plt.scatter(points_l[:,0],points_l[:,1])\n",
    "\n",
    "ax.figure.set(figwidth=32, figheight=9)"
   ]
  },
  {
   "cell_type": "code",
   "execution_count": null,
   "metadata": {},
   "outputs": [],
   "source": []
  }
 ],
 "metadata": {
  "kernelspec": {
   "display_name": "IDEA_torch",
   "language": "python",
   "name": "python3"
  },
  "language_info": {
   "codemirror_mode": {
    "name": "ipython",
    "version": 3
   },
   "file_extension": ".py",
   "mimetype": "text/x-python",
   "name": "python",
   "nbconvert_exporter": "python",
   "pygments_lexer": "ipython3",
   "version": "3.9.7"
  },
  "orig_nbformat": 4,
  "vscode": {
   "interpreter": {
    "hash": "8090384d562e2960e9de021746d637ad625f1d0c1a47d1c20963b6424ab6e06c"
   }
  }
 },
 "nbformat": 4,
 "nbformat_minor": 2
}
